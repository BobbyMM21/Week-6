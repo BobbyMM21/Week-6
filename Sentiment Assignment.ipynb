{
 "cells": [
  {
   "cell_type": "markdown",
   "id": "7f79baf9",
   "metadata": {},
   "source": [
    "# ADS 509 Sentiment Assignment\n",
    "\n",
    "This notebook holds the Sentiment Assignment for Module 6 in ADS 509, Applied Text Mining. Work through this notebook, writing code and answering questions where required. \n",
    "\n",
    "In a previous assignment you put together Twitter data and lyrics data on two artists. In this assignment we apply sentiment analysis to those data sets. If, for some reason, you did not complete that previous assignment, data to use for this assignment can be found in the assignment materials section of Blackboard. \n"
   ]
  },
  {
   "cell_type": "markdown",
   "id": "aae8e2e1",
   "metadata": {},
   "source": [
    "## General Assignment Instructions\n",
    "\n",
    "These instructions are included in every assignment, to remind you of the coding standards for the class. Feel free to delete this cell after reading it. \n",
    "\n",
    "One sign of mature code is conforming to a style guide. We recommend the [Google Python Style Guide](https://google.github.io/styleguide/pyguide.html). If you use a different style guide, please include a cell with a link. \n",
    "\n",
    "Your code should be relatively easy-to-read, sensibly commented, and clean. Writing code is a messy process, so please be sure to edit your final submission. Remove any cells that are not needed or parts of cells that contain unnecessary code. Remove inessential `import` statements and make sure that all such statements are moved into the designated cell. \n",
    "\n",
    "Make use of non-code cells for written commentary. These cells should be grammatical and clearly written. In some of these cells you will have questions to answer. The questions will be marked by a \"Q:\" and will have a corresponding \"A:\" spot for you. *Make sure to answer every question marked with a `Q:` for full credit.* \n"
   ]
  },
  {
   "cell_type": "code",
   "execution_count": 1,
   "id": "e2d096b7",
   "metadata": {},
   "outputs": [],
   "source": [
    "import os\n",
    "import re\n",
    "import emoji\n",
    "import pandas as pd\n",
    "import numpy as np\n",
    "\n",
    "from collections import Counter, defaultdict\n",
    "from string import punctuation\n",
    "\n",
    "from nltk.corpus import stopwords\n",
    "\n",
    "sw = stopwords.words(\"english\")"
   ]
  },
  {
   "cell_type": "code",
   "execution_count": null,
   "id": "6b555ab2",
   "metadata": {},
   "outputs": [],
   "source": [
    "# Add any additional import statements you need here\n",
    "import json\n",
    "\n",
    "\n",
    "\n"
   ]
  },
  {
   "cell_type": "code",
   "execution_count": 3,
   "id": "923b5a86",
   "metadata": {},
   "outputs": [],
   "source": [
    "# change `data_location` to the location of the folder on your machine.\n",
    "data_location = \"/Users/bobbymarriott/Downloads/M1 Results\"\n",
    "\n",
    "# These subfolders should still work if you correctly stored the \n",
    "# data from the Module 1 assignment\n",
    "twitter_folder = \"twitter/\"\n",
    "lyrics_folder = \"lyrics/\"\n",
    "\n",
    "positive_words_file = \"positive-words.txt\"\n",
    "negative_words_file = \"negative-words.txt\"\n",
    "tidy_text_file = \"tidytext_sentiments.txt\""
   ]
  },
  {
   "cell_type": "markdown",
   "id": "9d3bf93e",
   "metadata": {},
   "source": [
    "## Data Input\n",
    "\n",
    "Now read in each of the corpora. For the lyrics data, it may be convenient to store the entire contents of the file to make it easier to inspect the titles individually, as you'll do in the last part of the assignment. In the solution, I stored the lyrics data in a dictionary with two dimensions of keys: artist and song. The value was the file contents. A Pandas data frame would work equally well. \n",
    "\n",
    "For the Twitter data, we only need the description field for this assignment. Feel free all the descriptions read it into a data structure. In the solution, I stored the descriptions as a dictionary of lists, with the key being the artist. \n",
    "\n",
    "\n"
   ]
  },
  {
   "cell_type": "code",
   "execution_count": 4,
   "id": "37d70801",
   "metadata": {},
   "outputs": [
    {
     "name": "stdout",
     "output_type": "stream",
     "text": [
      "Loaded 1 lyric files.\n"
     ]
    }
   ],
   "source": [
    "# Read in the lyrics data\n",
    "lyrics_data = {}\n",
    "lyrics_path = os.path.join(data_location, lyrics_folder)  # e.g. \".../M1 Results/lyrics/\"\n",
    "\n",
    "for fname in os.listdir(lyrics_path):\n",
    "    fpath = os.path.join(lyrics_path, fname)\n",
    "    if os.path.isfile(fpath):\n",
    "        with open(fpath, 'r', encoding='utf8', errors='ignore') as f:\n",
    "            lyrics_data[fname] = f.read()\n",
    "\n",
    "print(f\"Loaded {len(lyrics_data)} lyric files.\")"
   ]
  },
  {
   "cell_type": "code",
   "execution_count": 5,
   "id": "debcac5a",
   "metadata": {},
   "outputs": [],
   "source": [
    "twitter_data = {}\n",
    "twitter_path = os.path.join(data_location, twitter_folder)\n",
    "\n",
    "for fname in os.listdir(twitter_path):\n",
    "    if not fname.lower().endswith('.csv'):\n",
    "        continue\n",
    "    artist = os.path.splitext(fname)[0]\n",
    "    df_tw = pd.read_csv(os.path.join(twitter_path, fname))\n",
    "    # pull out the “description” column, drop any NaNs, convert to Python list\n",
    "    twitter_data[artist] = df_tw['description'].dropna().tolist()\n",
    "\n",
    "for artist, descs in twitter_data.items():\n",
    "    print(f\"{artist}: {len(descs)} descriptions loaded\")"
   ]
  },
  {
   "cell_type": "code",
   "execution_count": null,
   "id": "af9e7a4b",
   "metadata": {},
   "outputs": [],
   "source": [
    "# Read in the positive and negative words and the\n",
    "# tidytext sentiment. Store these so that the positive\n",
    "# words are associated with a score of +1 and negative words\n",
    "# are associated with a score of -1. You can use a dataframe or a \n",
    "# dictionary for this."
   ]
  },
  {
   "cell_type": "code",
   "execution_count": 7,
   "id": "fd303617-e0e3-4799-b94d-c9535017dbe9",
   "metadata": {},
   "outputs": [
    {
     "data": {
      "text/html": [
       "<div>\n",
       "<style scoped>\n",
       "    .dataframe tbody tr th:only-of-type {\n",
       "        vertical-align: middle;\n",
       "    }\n",
       "\n",
       "    .dataframe tbody tr th {\n",
       "        vertical-align: top;\n",
       "    }\n",
       "\n",
       "    .dataframe thead th {\n",
       "        text-align: right;\n",
       "    }\n",
       "</style>\n",
       "<table border=\"1\" class=\"dataframe\">\n",
       "  <thead>\n",
       "    <tr style=\"text-align: right;\">\n",
       "      <th></th>\n",
       "      <th>word</th>\n",
       "      <th>score</th>\n",
       "    </tr>\n",
       "  </thead>\n",
       "  <tbody>\n",
       "    <tr>\n",
       "      <th>0</th>\n",
       "      <td>naïve</td>\n",
       "      <td>-1</td>\n",
       "    </tr>\n",
       "    <tr>\n",
       "      <th>1</th>\n",
       "      <td>abba</td>\n",
       "      <td>1</td>\n",
       "    </tr>\n",
       "    <tr>\n",
       "      <th>2</th>\n",
       "      <td>abduction</td>\n",
       "      <td>-1</td>\n",
       "    </tr>\n",
       "    <tr>\n",
       "      <th>3</th>\n",
       "      <td>abhor</td>\n",
       "      <td>-1</td>\n",
       "    </tr>\n",
       "    <tr>\n",
       "      <th>4</th>\n",
       "      <td>abhorrent</td>\n",
       "      <td>-1</td>\n",
       "    </tr>\n",
       "  </tbody>\n",
       "</table>\n",
       "</div>"
      ],
      "text/plain": [
       "        word  score\n",
       "0      naïve     -1\n",
       "1       abba      1\n",
       "2  abduction     -1\n",
       "3      abhor     -1\n",
       "4  abhorrent     -1"
      ]
     },
     "execution_count": 7,
     "metadata": {},
     "output_type": "execute_result"
    }
   ],
   "source": [
    "import requests\n",
    "\n",
    "BASE = \"https://raw.githubusercontent.com/BobbyMM21/Week-6/main/\"\n",
    "\n",
    "# Build word lists from POS/NEG files\n",
    "pos = [w for w in requests.get(BASE+\"positive-words.txt\").text.splitlines()\n",
    "       if w and not w.startswith(\";\")]\n",
    "neg = [w for w in requests.get(BASE+\"negative-words.txt\").text.splitlines()\n",
    "       if w and not w.startswith(\";\")]\n",
    "\n",
    "# lexicon + scores\n",
    "lex = pd.DataFrame({\n",
    "    \"word\":  pos + neg,\n",
    "    \"score\": [1]*len(pos) + [-1]*len(neg)\n",
    "})\n",
    "\n",
    "# Read in tidytext_sentiments and map labels\n",
    "tidy = pd.read_csv(BASE+\"tidytext_sentiments.txt\", sep=\"\\t\")\n",
    "tidy[\"score\"] = tidy[\"sentiment\"].map({\"positive\":1, \"negative\":-1})\n",
    "\n",
    "# Combine both sources\n",
    "sentiment_df = (\n",
    "    pd.concat([lex, tidy[[\"word\",\"score\"]]], ignore_index=True)\n",
    "      .drop_duplicates(subset=\"word\", keep=\"last\")\n",
    "      .reset_index(drop=True)\n",
    ")\n",
    "\n",
    "sentiment_df.head()"
   ]
  },
  {
   "cell_type": "markdown",
   "id": "6a5f3b12",
   "metadata": {},
   "source": [
    "## Sentiment Analysis on Songs\n",
    "\n",
    "In this section, score the sentiment for all the songs for both artists in your data set. Score the sentiment by manually calculating the sentiment using the combined lexicons provided in this repository. \n",
    "\n",
    "After you have calculated these sentiments, answer the questions at the end of this section.\n"
   ]
  },
  {
   "cell_type": "code",
   "execution_count": 8,
   "id": "664f8d8f",
   "metadata": {},
   "outputs": [
    {
     "data": {
      "text/html": [
       "<div>\n",
       "<style scoped>\n",
       "    .dataframe tbody tr th:only-of-type {\n",
       "        vertical-align: middle;\n",
       "    }\n",
       "\n",
       "    .dataframe tbody tr th {\n",
       "        vertical-align: top;\n",
       "    }\n",
       "\n",
       "    .dataframe thead th {\n",
       "        text-align: right;\n",
       "    }\n",
       "</style>\n",
       "<table border=\"1\" class=\"dataframe\">\n",
       "  <thead>\n",
       "    <tr style=\"text-align: right;\">\n",
       "      <th></th>\n",
       "      <th>artist</th>\n",
       "      <th>song</th>\n",
       "      <th>sentiment</th>\n",
       "    </tr>\n",
       "  </thead>\n",
       "  <tbody>\n",
       "    <tr>\n",
       "      <th>250</th>\n",
       "      <td>cher</td>\n",
       "      <td>cher_loveandunderstanding</td>\n",
       "      <td>61</td>\n",
       "    </tr>\n",
       "    <tr>\n",
       "      <th>338</th>\n",
       "      <td>cher</td>\n",
       "      <td>cher_ifoundyoulove</td>\n",
       "      <td>57</td>\n",
       "    </tr>\n",
       "    <tr>\n",
       "      <th>207</th>\n",
       "      <td>cher</td>\n",
       "      <td>cher_perfection</td>\n",
       "      <td>53</td>\n",
       "    </tr>\n",
       "    <tr>\n",
       "      <th>119</th>\n",
       "      <td>cher</td>\n",
       "      <td>cher_mylove</td>\n",
       "      <td>49</td>\n",
       "    </tr>\n",
       "    <tr>\n",
       "      <th>122</th>\n",
       "      <td>cher</td>\n",
       "      <td>cher_takinbackmyheart</td>\n",
       "      <td>45</td>\n",
       "    </tr>\n",
       "    <tr>\n",
       "      <th>...</th>\n",
       "      <td>...</td>\n",
       "      <td>...</td>\n",
       "      <td>...</td>\n",
       "    </tr>\n",
       "    <tr>\n",
       "      <th>101</th>\n",
       "      <td>robyn</td>\n",
       "      <td>robyn_missingu</td>\n",
       "      <td>-14</td>\n",
       "    </tr>\n",
       "    <tr>\n",
       "      <th>95</th>\n",
       "      <td>robyn</td>\n",
       "      <td>robyn_crashandburngirl</td>\n",
       "      <td>-16</td>\n",
       "    </tr>\n",
       "    <tr>\n",
       "      <th>16</th>\n",
       "      <td>robyn</td>\n",
       "      <td>robyn_criminalintent</td>\n",
       "      <td>-51</td>\n",
       "    </tr>\n",
       "    <tr>\n",
       "      <th>53</th>\n",
       "      <td>robyn</td>\n",
       "      <td>robyn_dontfuckingtellmewhattodo</td>\n",
       "      <td>-78</td>\n",
       "    </tr>\n",
       "    <tr>\n",
       "      <th>75</th>\n",
       "      <td>robyn</td>\n",
       "      <td>robyn_dontfuckingtellmewhattodo114520</td>\n",
       "      <td>-78</td>\n",
       "    </tr>\n",
       "  </tbody>\n",
       "</table>\n",
       "<p>420 rows × 3 columns</p>\n",
       "</div>"
      ],
      "text/plain": [
       "    artist                                   song  sentiment\n",
       "250   cher              cher_loveandunderstanding         61\n",
       "338   cher                     cher_ifoundyoulove         57\n",
       "207   cher                        cher_perfection         53\n",
       "119   cher                            cher_mylove         49\n",
       "122   cher                  cher_takinbackmyheart         45\n",
       "..     ...                                    ...        ...\n",
       "101  robyn                         robyn_missingu        -14\n",
       "95   robyn                 robyn_crashandburngirl        -16\n",
       "16   robyn                   robyn_criminalintent        -51\n",
       "53   robyn        robyn_dontfuckingtellmewhattodo        -78\n",
       "75   robyn  robyn_dontfuckingtellmewhattodo114520        -78\n",
       "\n",
       "[420 rows x 3 columns]"
      ]
     },
     "execution_count": 8,
     "metadata": {},
     "output_type": "execute_result"
    }
   ],
   "source": [
    "rows = []\n",
    "lyrics_path = os.path.join(data_location, lyrics_folder)\n",
    "for artist in os.listdir(lyrics_path):\n",
    "    artist_dir = os.path.join(lyrics_path, artist)\n",
    "    if not os.path.isdir(artist_dir):\n",
    "        continue\n",
    "    for fname in os.listdir(artist_dir):\n",
    "        if fname.endswith(\".txt\"):\n",
    "            with open(os.path.join(artist_dir, fname), encoding=\"utf8\") as f:\n",
    "                text = f.read()\n",
    "            rows.append({\"artist\": artist, \"song\": fname[:-4], \"text\": text})\n",
    "lyrics_df = pd.DataFrame(rows)\n",
    "\n",
    "# Build a word→score dict from combined lexicon DataFrame\n",
    "sent_dict = dict(zip(sentiment_df[\"word\"], sentiment_df[\"score\"]))\n",
    "\n",
    "# Define and apply a simple scorer\n",
    "def score_sentiment(txt):\n",
    "    tokens = re.findall(r\"\\b\\w+\\b\", txt.lower())\n",
    "    return sum(sent_dict.get(tok, 0) for tok in tokens)\n",
    "\n",
    "lyrics_df[\"sentiment\"] = lyrics_df[\"text\"].apply(score_sentiment)\n",
    "\n",
    "lyrics_df[[\"artist\", \"song\", \"sentiment\"]].sort_values([\"artist\", \"sentiment\"], ascending=[True, False])"
   ]
  },
  {
   "cell_type": "markdown",
   "id": "1f8334f4",
   "metadata": {},
   "source": [
    "### Questions\n",
    "\n",
    "Q: Overall, which artist has the higher average sentiment per song? \n",
    "\n",
    "A: Cher\n",
    "\n",
    "---\n",
    "\n",
    "Q: For your first artist, what are the three songs that have the highest and lowest sentiments? Print the lyrics of those songs to the screen. What do you think is driving the sentiment score? \n",
    "\n",
    "A: The highest-scoring Cher songs are “cher_loveandunderstanding” (61), “cher_ifoundyoulove” (57), and “cher_perfection” (53), driven by optimistic lyrics that highlight self worth; the three lowest are “cher_takinbackmyheart” (45), “cher_mylove” (49), and “cher_mylove” (49), whose heartbreaking vibes bring the score down. \n",
    "\n",
    "\n",
    "---\n",
    "\n",
    "Q: For your second artist, what are the three songs that have the highest and lowest sentiments? Print the lyrics of those songs to the screen. What do you think is driving the sentiment score? \n",
    "\n",
    "A: Robyn’s top three scores are “robyn_missingu” (+30), “robyn_crashandburngirl” (–16), and “robyn_criminalintent” (~–51)—with the upbeat vibe of “Missing U” raising her score her lowest three are “robyn_dontfuckingtellmewhattodo” (–78), “robyn_criminalintent” (–51), and “robyn_crashandburngirl” (–16), driven down because it's a darker emotion.\n",
    "\n",
    "---\n",
    "\n",
    "Q: Plot the distributions of the sentiment scores for both artists. You can use `seaborn` to plot densities or plot histograms in matplotlib.\n",
    "\n",
    "\n"
   ]
  },
  {
   "cell_type": "code",
   "execution_count": 16,
   "id": "b8d96cad-5b0f-4d48-b0a1-63f593ab5132",
   "metadata": {},
   "outputs": [
    {
     "name": "stderr",
     "output_type": "stream",
     "text": [
      "/Users/bobbymarriott/anaconda3/lib/python3.10/site-packages/seaborn/_oldcore.py:1498: FutureWarning: is_categorical_dtype is deprecated and will be removed in a future version. Use isinstance(dtype, CategoricalDtype) instead\n",
      "  if pd.api.types.is_categorical_dtype(vector):\n",
      "/Users/bobbymarriott/anaconda3/lib/python3.10/site-packages/seaborn/_oldcore.py:1498: FutureWarning: is_categorical_dtype is deprecated and will be removed in a future version. Use isinstance(dtype, CategoricalDtype) instead\n",
      "  if pd.api.types.is_categorical_dtype(vector):\n",
      "/Users/bobbymarriott/anaconda3/lib/python3.10/site-packages/seaborn/_oldcore.py:1498: FutureWarning: is_categorical_dtype is deprecated and will be removed in a future version. Use isinstance(dtype, CategoricalDtype) instead\n",
      "  if pd.api.types.is_categorical_dtype(vector):\n",
      "/Users/bobbymarriott/anaconda3/lib/python3.10/site-packages/seaborn/_oldcore.py:1498: FutureWarning: is_categorical_dtype is deprecated and will be removed in a future version. Use isinstance(dtype, CategoricalDtype) instead\n",
      "  if pd.api.types.is_categorical_dtype(vector):\n",
      "/Users/bobbymarriott/anaconda3/lib/python3.10/site-packages/seaborn/_oldcore.py:1119: FutureWarning: use_inf_as_na option is deprecated and will be removed in a future version. Convert inf values to NaN before operating instead.\n",
      "  with pd.option_context('mode.use_inf_as_na', True):\n"
     ]
    },
    {
     "data": {
      "image/png": "[encoded data removed]",
      "text/plain": [
       "<Figure size 1000x600 with 1 Axes>"
      ]
     },
     "metadata": {},
     "output_type": "display_data"
    }
   ],
   "source": [
    "import matplotlib.pyplot as plt\n",
    "import seaborn as sns\n",
    "\n",
    "plt.figure(figsize=(10, 6))\n",
    "sns.histplot(\n",
    "    data=lyrics_df,\n",
    "    x=\"sentiment\",\n",
    "    hue=\"artist\",\n",
    "    kde=True,\n",
    "    stat=\"density\",\n",
    "    common_norm=False,\n",
    "    multiple=\"layer\"\n",
    ")\n",
    "plt.title(\"Sentiment Score Distribution by Artist\")\n",
    "plt.xlabel(\"Sentiment Score\")\n",
    "plt.ylabel(\"Density\")\n",
    "plt.show()"
   ]
  },
  {
   "cell_type": "markdown",
   "id": "b3fe644d",
   "metadata": {},
   "source": [
    "## Sentiment Analysis on Twitter Descriptions\n",
    "\n",
    "In this section, define two sets of emojis you designate as positive and negative. Make sure to have at least 10 emojis per set. You can learn about the most popular emojis on Twitter at [the emojitracker](https://emojitracker.com/). \n",
    "\n",
    "Associate your positive emojis with a score of +1, negative with -1. Score the average sentiment of your two artists based on the Twitter descriptions of their followers. The average sentiment can just be the total score divided by number of followers. You do not need to calculate sentiment on non-emoji content for this section."
   ]
  },
  {
   "cell_type": "code",
   "execution_count": 26,
   "id": "61fd2e1f-2e06-4d41-8ff9-275464ceaca1",
   "metadata": {},
   "outputs": [
    {
     "name": "stdout",
     "output_type": "stream",
     "text": [
      "Empty DataFrame\n",
      "Columns: []\n",
      "Index: []\n",
      "RangeIndex(start=0, stop=0, step=1)\n"
     ]
    }
   ],
   "source": [
    "print(twitter_df.head())\n",
    "print(twitter_df.columns)"
   ]
  },
  {
   "cell_type": "code",
   "execution_count": 27,
   "id": "a43ee25d-b5cd-4c70-983a-884ef8226ab5",
   "metadata": {},
   "outputs": [
    {
     "name": "stdout",
     "output_type": "stream",
     "text": [
      "Root folder contents: ['lyrics', 'twitter', '.DS_Store']\n",
      "Twitter folder path: /Users/bobbymarriott/Downloads/M1 Results/twitter/\n",
      "Twitter folder contents: ['.DS_Store', 'cher_followers_data.txt', 'robynkonichiwa_followers_data.txt', 'cher_followers.txt', 'robynkonichiwa_followers.txt']\n"
     ]
    }
   ],
   "source": [
    "print(\"Root folder contents:\", os.listdir(data_location))\n",
    "\n",
    "twitter_path = os.path.join(data_location, twitter_folder)\n",
    "print(\"Twitter folder path:\", twitter_path)\n",
    "print(\"Twitter folder contents:\", os.listdir(twitter_path))"
   ]
  },
  {
   "cell_type": "code",
   "execution_count": 40,
   "id": "b6489250-9883-4968-9789-538dc7f1e7d4",
   "metadata": {},
   "outputs": [
    {
     "data": {
      "text/html": [
       "<div>\n",
       "<style scoped>\n",
       "    .dataframe tbody tr th:only-of-type {\n",
       "        vertical-align: middle;\n",
       "    }\n",
       "\n",
       "    .dataframe tbody tr th {\n",
       "        vertical-align: top;\n",
       "    }\n",
       "\n",
       "    .dataframe thead th {\n",
       "        text-align: right;\n",
       "    }\n",
       "</style>\n",
       "<table border=\"1\" class=\"dataframe\">\n",
       "  <thead>\n",
       "    <tr style=\"text-align: right;\">\n",
       "      <th></th>\n",
       "    </tr>\n",
       "  </thead>\n",
       "  <tbody>\n",
       "  </tbody>\n",
       "</table>\n",
       "</div>"
      ],
      "text/plain": [
       "Empty DataFrame\n",
       "Columns: []\n",
       "Index: []"
      ]
     },
     "execution_count": 40,
     "metadata": {},
     "output_type": "execute_result"
    }
   ],
   "source": [
    "twitter_rows = []\n",
    "twitter_path = os.path.join(data_location, twitter_folder)\n",
    "\n",
    "for fname in os.listdir(twitter_path):\n",
    "    if not fname.endswith(\"_followers_data.txt\"):\n",
    "        continue\n",
    "\n",
    "    artist = fname.split(\"_\")[0]\n",
    "    full_path = os.path.join(twitter_path, fname)\n",
    "    with open(full_path, encoding=\"utf8\") as f:\n",
    "        for line in f:\n",
    "            line = line.strip()\n",
    "            if not line:\n",
    "                continue\n",
    "            try:\n",
    "                rec = json.loads(line)\n",
    "            except json.JSONDecodeError:\n",
    "                continue\n",
    "            twitter_rows.append({\n",
    "                \"artist\": artist,\n",
    "                \"description\": rec.get(\"description\", \"\")\n",
    "            })\n",
    "\n",
    "twitter_df = pd.DataFrame(twitter_rows)\n",
    "twitter_df.head()"
   ]
  },
  {
   "cell_type": "code",
   "execution_count": 41,
   "id": "fe31ac4f-8f20-4df4-99e4-ab61d44b7948",
   "metadata": {},
   "outputs": [
    {
     "name": "stdout",
     "output_type": "stream",
     "text": [
      "Columns: []\n",
      "Empty DataFrame\n",
      "Columns: []\n",
      "Index: []\n"
     ]
    }
   ],
   "source": [
    "# Not sure why I'm having issues pulling this data when it's in the same folder as the Lyrics data\n",
    "print(\"Columns:\", twitter_df.columns.tolist())\n",
    "print(twitter_df.head(3))"
   ]
  },
  {
   "cell_type": "code",
   "execution_count": 37,
   "id": "db32555e-687e-44fb-9570-135e6eead6ee",
   "metadata": {},
   "outputs": [
    {
     "ename": "KeyError",
     "evalue": "'description'",
     "output_type": "error",
     "traceback": [
      "\u001b[0;31m---------------------------------------------------------------------------\u001b[0m",
      "\u001b[0;31mKeyError\u001b[0m                                  Traceback (most recent call last)",
      "Cell \u001b[0;32mIn[37], line 16\u001b[0m\n\u001b[1;32m     13\u001b[0m     \u001b[38;5;28;01mreturn\u001b[39;00m \u001b[38;5;28msum\u001b[39m(emoji_scores\u001b[38;5;241m.\u001b[39mget(ch, \u001b[38;5;241m0\u001b[39m) \u001b[38;5;28;01mfor\u001b[39;00m ch \u001b[38;5;129;01min\u001b[39;00m \u001b[38;5;28mstr\u001b[39m(text))\n\u001b[1;32m     15\u001b[0m \u001b[38;5;66;03m# 4) Apply it and compute the average sentiment per artist\u001b[39;00m\n\u001b[0;32m---> 16\u001b[0m twitter_df[\u001b[38;5;124m'\u001b[39m\u001b[38;5;124memoji_score\u001b[39m\u001b[38;5;124m'\u001b[39m] \u001b[38;5;241m=\u001b[39m \u001b[43mtwitter_df\u001b[49m\u001b[43m[\u001b[49m\u001b[38;5;124;43m'\u001b[39;49m\u001b[38;5;124;43mdescription\u001b[39;49m\u001b[38;5;124;43m'\u001b[39;49m\u001b[43m]\u001b[49m\u001b[38;5;241m.\u001b[39mmap(score_emojis)\n\u001b[1;32m     17\u001b[0m avg_emoji_sentiment \u001b[38;5;241m=\u001b[39m (\n\u001b[1;32m     18\u001b[0m     twitter_df\n\u001b[1;32m     19\u001b[0m     \u001b[38;5;241m.\u001b[39mgroupby(\u001b[38;5;124m'\u001b[39m\u001b[38;5;124martist\u001b[39m\u001b[38;5;124m'\u001b[39m)[\u001b[38;5;124m'\u001b[39m\u001b[38;5;124memoji_score\u001b[39m\u001b[38;5;124m'\u001b[39m]\n\u001b[1;32m     20\u001b[0m     \u001b[38;5;241m.\u001b[39mmean()\n\u001b[1;32m     21\u001b[0m     \u001b[38;5;241m.\u001b[39mreset_index(name\u001b[38;5;241m=\u001b[39m\u001b[38;5;124m'\u001b[39m\u001b[38;5;124mavg_emoji_sentiment\u001b[39m\u001b[38;5;124m'\u001b[39m)\n\u001b[1;32m     22\u001b[0m )\n\u001b[1;32m     24\u001b[0m avg_emoji_sentiment\n",
      "File \u001b[0;32m~/anaconda3/lib/python3.10/site-packages/pandas/core/frame.py:3896\u001b[0m, in \u001b[0;36mDataFrame.__getitem__\u001b[0;34m(self, key)\u001b[0m\n\u001b[1;32m   3894\u001b[0m \u001b[38;5;28;01mif\u001b[39;00m \u001b[38;5;28mself\u001b[39m\u001b[38;5;241m.\u001b[39mcolumns\u001b[38;5;241m.\u001b[39mnlevels \u001b[38;5;241m>\u001b[39m \u001b[38;5;241m1\u001b[39m:\n\u001b[1;32m   3895\u001b[0m     \u001b[38;5;28;01mreturn\u001b[39;00m \u001b[38;5;28mself\u001b[39m\u001b[38;5;241m.\u001b[39m_getitem_multilevel(key)\n\u001b[0;32m-> 3896\u001b[0m indexer \u001b[38;5;241m=\u001b[39m \u001b[38;5;28;43mself\u001b[39;49m\u001b[38;5;241;43m.\u001b[39;49m\u001b[43mcolumns\u001b[49m\u001b[38;5;241;43m.\u001b[39;49m\u001b[43mget_loc\u001b[49m\u001b[43m(\u001b[49m\u001b[43mkey\u001b[49m\u001b[43m)\u001b[49m\n\u001b[1;32m   3897\u001b[0m \u001b[38;5;28;01mif\u001b[39;00m is_integer(indexer):\n\u001b[1;32m   3898\u001b[0m     indexer \u001b[38;5;241m=\u001b[39m [indexer]\n",
      "File \u001b[0;32m~/anaconda3/lib/python3.10/site-packages/pandas/core/indexes/range.py:418\u001b[0m, in \u001b[0;36mRangeIndex.get_loc\u001b[0;34m(self, key)\u001b[0m\n\u001b[1;32m    416\u001b[0m         \u001b[38;5;28;01mraise\u001b[39;00m \u001b[38;5;167;01mKeyError\u001b[39;00m(key) \u001b[38;5;28;01mfrom\u001b[39;00m\u001b[38;5;250m \u001b[39m\u001b[38;5;21;01merr\u001b[39;00m\n\u001b[1;32m    417\u001b[0m \u001b[38;5;28;01mif\u001b[39;00m \u001b[38;5;28misinstance\u001b[39m(key, Hashable):\n\u001b[0;32m--> 418\u001b[0m     \u001b[38;5;28;01mraise\u001b[39;00m \u001b[38;5;167;01mKeyError\u001b[39;00m(key)\n\u001b[1;32m    419\u001b[0m \u001b[38;5;28mself\u001b[39m\u001b[38;5;241m.\u001b[39m_check_indexing_error(key)\n\u001b[1;32m    420\u001b[0m \u001b[38;5;28;01mraise\u001b[39;00m \u001b[38;5;167;01mKeyError\u001b[39;00m(key)\n",
      "\u001b[0;31mKeyError\u001b[0m: 'description'"
     ]
    }
   ],
   "source": [
    "# emoji lexicons (at least 10 each)\n",
    "pos_emojis = ['😊','😁','😀','😄','😎','👍','🙌','🥳','🤩','😃']\n",
    "neg_emojis = ['😢','😞','😡','😠','👎','😣','😖','😫','😩','😭']\n",
    "\n",
    "# Build a lookup dict mapping each emoji to +1 or –1\n",
    "emoji_scores = {e: 1 for e in pos_emojis}\n",
    "emoji_scores.update({e: -1 for e in neg_emojis})\n",
    "\n",
    "# Scoring function\n",
    "def score_emojis(text):\n",
    "    return sum(emoji_scores.get(ch, 0) for ch in str(text))\n",
    "\n",
    "# compute the average sentiment per artist\n",
    "twitter_df['emoji_score'] = twitter_df['description'].map(score_emojis)\n",
    "avg_emoji_sentiment = (\n",
    "    twitter_df\n",
    "    .groupby('artist')['emoji_score']\n",
    "    .mean()\n",
    "    .reset_index(name='avg_emoji_sentiment')\n",
    ")\n",
    "\n",
    "avg_emoji_sentiment"
   ]
  },
  {
   "cell_type": "markdown",
   "id": "fb92eb93",
   "metadata": {},
   "source": [
    "Q: What is the average sentiment of your two artists? \n",
    "\n",
    "A: <!-- Your answer here --> \n",
    "\n",
    "---\n",
    "\n",
    "Q: Which positive emoji is the most popular for each artist? Which negative emoji? \n",
    "\n",
    "A: <!-- Your answer here --> \n",
    "\n"
   ]
  }
 ],
 "metadata": {
  "kernelspec": {
   "display_name": "Python [conda env:base] *",
   "language": "python",
   "name": "conda-base-py"
  },
  "language_info": {
   "codemirror_mode": {
    "name": "ipython",
    "version": 3
   },
   "file_extension": ".py",
   "mimetype": "text/x-python",
   "name": "python",
   "nbconvert_exporter": "python",
   "pygments_lexer": "ipython3",
   "version": "3.10.16"
  }
 },
 "nbformat": 4,
 "nbformat_minor": 5
}
